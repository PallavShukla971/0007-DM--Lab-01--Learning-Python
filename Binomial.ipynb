{
 "cells": [
  {
   "cell_type": "code",
   "execution_count": null,
   "id": "7343dcc8",
   "metadata": {},
   "outputs": [],
   "source": [
    "#  Binomial equation "
   ]
  },
  {
   "cell_type": "code",
   "execution_count": 2,
   "id": "d343173e",
   "metadata": {},
   "outputs": [],
   "source": [
    "import numpy as np\n",
    "import matplotlib as plt"
   ]
  },
  {
   "cell_type": "code",
   "execution_count": null,
   "id": "28a3bad2",
   "metadata": {},
   "outputs": [],
   "source": [
    "#        Task 1.5"
   ]
  },
  {
   "cell_type": "markdown",
   "id": "17397e5c",
   "metadata": {},
   "source": [
    "# 1.5 Binomial Distribution"
   ]
  },
  {
   "cell_type": "code",
   "execution_count": 7,
   "id": "a46ba9e1",
   "metadata": {},
   "outputs": [
    {
     "data": {
      "image/png": "[encoded data removed]",
      "text/plain": [
       "<Figure size 720x504 with 1 Axes>"
      ]
     },
     "metadata": {
      "needs_background": "light"
     },
     "output_type": "display_data"
    }
   ],
   "source": [
    "# Import libraries\n",
    "import numpy as np\n",
    "import matplotlib.pyplot as plt\n",
    "\n",
    "# Input variables\n",
    "# Number of trials > 10,000  \n",
    "trials = 100000\n",
    "# Number of independent experiments in each trial\n",
    "n = 100\n",
    "# Probability of success for each experiment\n",
    "p = 0.7\n",
    "# Function that replicates draws from the bag for black balls\n",
    "# black is a list of the number of successes from each trial of n experiments\n",
    "def run_binom(trials, n, p):\n",
    "    black = []\n",
    "    for i in range(trials):\n",
    "        draws = [np.random.random() for i in range(n)]\n",
    "        black.append(len([i for i in draws if i>=0.70]))\n",
    "    return black\n",
    "# Run the function\n",
    "black = run_binom(trials, n, p)\n",
    "# Plot the results as a histogram\n",
    "fig, ax = plt.subplots(1, 1,\n",
    "                        figsize =(10, 7),\n",
    "                        tight_layout = True)\n",
    "\n",
    "ax.hist(black,bins=20, label='simulation results')\n",
    "# plt.grid()\n",
    "plt.show()"
   ]
  },
  {
   "cell_type": "markdown",
   "id": "245ab9e5",
   "metadata": {},
   "source": [
    "# Refrences / Citation : \n",
    "#### Understanding Binomial Function\n",
    "-- https://www.geeksforgeeks.org/python-binomial-distribution/\n",
    "## Understanding how to apply loops in a function:\n",
    "-- https://stackoverflow.com/questions/26560726/python-binomial-coefficient\n",
    "## Diffrent ways to apply binomial function\n",
    "-- https://www.pythonpool.com/python-binomial-coefficient/\n",
    "\n",
    "-- https://www.geeksforgeeks.org/binomial-coefficient-dp-9/"
   ]
  },
  {
   "cell_type": "code",
   "execution_count": null,
   "id": "b9593917",
   "metadata": {},
   "outputs": [],
   "source": []
  }
 ],
 "metadata": {
  "kernelspec": {
   "display_name": "Python 3 (ipykernel)",
   "language": "python",
   "name": "python3"
  },
  "language_info": {
   "codemirror_mode": {
    "name": "ipython",
    "version": 3
   },
   "file_extension": ".py",
   "mimetype": "text/x-python",
   "name": "python",
   "nbconvert_exporter": "python",
   "pygments_lexer": "ipython3",
   "version": "3.9.7"
  }
 },
 "nbformat": 4,
 "nbformat_minor": 5
}
