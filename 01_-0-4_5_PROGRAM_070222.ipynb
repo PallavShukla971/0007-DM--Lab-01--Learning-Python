{
  "cells": [
    {
      "cell_type": "code",
      "execution_count": null,
      "id": "71bbca2b",
      "metadata": {
        "id": "71bbca2b"
      },
      "outputs": [],
      "source": [
        "#    Task 1"
      ]
    },
    {
      "cell_type": "code",
      "execution_count": null,
      "id": "69426613",
      "metadata": {
        "id": "69426613"
      },
      "outputs": [],
      "source": [
        "#        Task 1.1"
      ]
    },
    {
      "cell_type": "markdown",
      "source": [
        "Question:\n",
        "Define and implement a function to test whether a given calendar year is a leap year or a\n",
        "common year."
      ],
      "metadata": {
        "id": "r9ABTr_E6E7n"
      },
      "id": "r9ABTr_E6E7n"
    },
    {
      "cell_type": "markdown",
      "source": [
        "N => Not a leap year\n",
        "Y => Leap year"
      ],
      "metadata": {
        "id": "XGT7VaxjvQTp"
      },
      "id": "XGT7VaxjvQTp"
    },
    {
      "cell_type": "code",
      "source": [
        "#isLeapmod\n",
        "def isLeapmod(in_year):\n",
        "  if(in_year % 4 != 0 ):\n",
        "      return 'It is a common year'\n",
        "  elif(in_year % 4 == 0 ) and (in_year % 100 != 0):\n",
        "      return 'It is a leap year'\n",
        "  elif(in_year % 100) == 0 and (in_year % 400 != 0):\n",
        "      return 'It is a common year'\n",
        "  elif(in_year % 400) == 0 and (in_year % 3200 != 0):\n",
        "      return 'It is a leap year'\n",
        "  else:\n",
        "      return 'It is a common year'\n",
        "  \n",
        "  return -1"
      ],
      "metadata": {
        "id": "29k6EeL9E3gm"
      },
      "id": "29k6EeL9E3gm",
      "execution_count": null,
      "outputs": []
    },
    {
      "cell_type": "code",
      "source": [
        "isLeapmod(2022)"
      ],
      "metadata": {
        "colab": {
          "base_uri": "https://localhost:8080/",
          "height": 35
        },
        "id": "zjoP652CGBCt",
        "outputId": "851273fc-03b6-445a-fb72-cbcd589bc73c"
      },
      "id": "zjoP652CGBCt",
      "execution_count": null,
      "outputs": [
        {
          "output_type": "execute_result",
          "data": {
            "application/vnd.google.colaboratory.intrinsic+json": {
              "type": "string"
            },
            "text/plain": [
              "'N'"
            ]
          },
          "metadata": {},
          "execution_count": 8
        }
      ]
    },
    {
      "cell_type": "code",
      "execution_count": null,
      "id": "e5507cb3",
      "metadata": {
        "id": "e5507cb3"
      },
      "outputs": [],
      "source": [
        "#        Task 1.2"
      ]
    },
    {
      "cell_type": "markdown",
      "source": [
        "Question:\n",
        "Within the same script or jupyter notebook created in Task 1.1, define and implement\n",
        "a function to calculate ISO Day-of-Week given a date including year, month and day of\n",
        "month, i.e. Year=2019 (calendar year), Month=2 (February), Day of Month=5 (the 5th\n",
        "day of the month)."
      ],
      "metadata": {
        "id": "yXqvs0e95tdU"
      },
      "id": "yXqvs0e95tdU"
    },
    {
      "cell_type": "markdown",
      "source": [
        "ISO Day-of-week: The most common is the International Standard ISO 8601, where Monday is the first day of the week followed by Tuesday, Wednesday, Thursday, Friday, Saturday, and with Sunday as the seventh and final day. "
      ],
      "metadata": {
        "id": "TLWc487T-saG"
      },
      "id": "TLWc487T-saG"
    },
    {
      "cell_type": "markdown",
      "source": [
        "**Trying new approach**"
      ],
      "metadata": {
        "id": "-dIrSb_zZ62g"
      },
      "id": "-dIrSb_zZ62g"
    },
    {
      "cell_type": "code",
      "source": [
        "#isLeapmod\n",
        "def isLeapmod(in_year):\n",
        "  if(in_year % 4 != 0 ):\n",
        "      return 'N'\n",
        "  elif(in_year % 4 == 0 ) and (in_year % 100 != 0):\n",
        "      return 'Y'\n",
        "  elif(in_year % 100) == 0 and (in_year % 400 != 0):\n",
        "      return 'N'\n",
        "  elif(in_year % 400) == 0 and (in_year % 3200 != 0):\n",
        "      return 'Y'\n",
        "  else:\n",
        "      return 'N'\n",
        "\n",
        "  return -1\n",
        "\n",
        "def dayOfTheWeek(y,m,dayOfMonth):\n",
        "    iso_dict = { 1:'Mon',  2:'Tue',  3:'Wed', \n",
        "                 4:'Thu',  5:'Fri',  6:'Sat',7:'Sun'}\n",
        "    leapFlag = isLeapmod(y)\n",
        "    if (dayOfMonth>31 or m>12) and (leapFlag == 'N' and m == 2 and dayOfMonth > 28) and (leapFlag == 'Y' and m == 2 and dayOfMonth > 29):\n",
        "      return \"Invalid date\"\n",
        "    else:\n",
        "      if m <= 2:\n",
        "        m = m + 12\n",
        "        y = y - 1\n",
        "      j = y // 100 #zero-based century\n",
        "      k = y % 100  #year of century\n",
        "      h = ( dayOfMonth + ((13*(m+1))//(5)) + k + (k//4) + (j//4) - (2*j) ) % 7 #day of week (0=Sat,1=Sun,..6=Fri)\n",
        "      dayOfMonth = ((h + 5) % 7) + 1 #ISO week date Day-of-Week (1=Mon,...7=Sun)\n",
        "      #print(iso_dict[dayOfMonth])\n",
        "      return iso_dict[dayOfMonth]"
      ],
      "metadata": {
        "id": "junbWQPcZwyW"
      },
      "id": "junbWQPcZwyW",
      "execution_count": null,
      "outputs": []
    },
    {
      "cell_type": "code",
      "source": [
        "print(dayOfTheWeek(2022,2,4))\n",
        "print(dayOfTheWeek(2019,2,5))"
      ],
      "metadata": {
        "colab": {
          "base_uri": "https://localhost:8080/"
        },
        "id": "AC_GuBPlwxtQ",
        "outputId": "dbe8f706-9065-48e1-9d06-06d5b977b20e"
      },
      "id": "AC_GuBPlwxtQ",
      "execution_count": null,
      "outputs": [
        {
          "output_type": "stream",
          "name": "stdout",
          "text": [
            "Fri\n",
            "Tue\n"
          ]
        }
      ]
    },
    {
      "cell_type": "code",
      "execution_count": null,
      "id": "a4c8b024",
      "metadata": {
        "id": "a4c8b024"
      },
      "outputs": [],
      "source": [
        "#        Task 1.3"
      ]
    },
    {
      "cell_type": "markdown",
      "source": [
        "Question:\n",
        "Print out the monthly calendar of a given year"
      ],
      "metadata": {
        "id": "d0obTlmVAE6B"
      },
      "id": "d0obTlmVAE6B"
    },
    {
      "cell_type": "code",
      "source": [
        "def printCal(y):\n",
        "  #Input would be given year\n",
        "  ISO_day_of_week = ['1','2','3','4','5','6','7']\n",
        "  iso_dict_list =  ['Mon','Tue','Wed','Thu','Fri','Sat','Sun']\n",
        "  #months_long = ['January', 'February', 'March', 'April', 'May', 'June', 'July', 'August', 'September', 'October', 'November', 'December']\n",
        "  #months_short = ['Jan', 'Feb', 'Mar', 'Apr', 'May', 'Jun', 'Jul', 'Aug', 'Sep', 'Oct', 'Nov', 'Dec']\n",
        "\n",
        "  month ={ 1:'Jan',  2:'Feb',  3:'Mar', \n",
        "           4:'Apr',  5:'May',  6:'Jun', \n",
        "           7:'Jul',  8:'Aug',  9:'Sep', \n",
        "          10:'Oct', 11:'Nov', 12:'Dec'}\n",
        "\n",
        "  leapFlag = isLeapmod(y)\n",
        "\n",
        "  #not leap year number of days list\n",
        "  nly =[31, 28, 31, \n",
        "        30, 31, 30, \n",
        "        31, 31, 30, \n",
        "        31, 30, 31]\n",
        "  \n",
        "  #Leap year number of days list\n",
        "  ly = [31, 29, 31,\n",
        "        30, 31, 30,\n",
        "        31, 31, 30,\n",
        "        31, 30, 31]\n",
        "  \n",
        "  #print(y)\n",
        "  # variable used for white space filling \n",
        "  # where date not present\n",
        "  space =''\n",
        "  space = space.rjust(2,' ')\n",
        "\n",
        "  for mm in range(1,13):\n",
        "    text = month[mm]+\" \"+str(y)\n",
        "    print(text.center(28))\n",
        "    #Identifying the first day from where the calendar dates should start\n",
        "    firstDay = dayOfTheWeek(y,mm,1)\n",
        "    day = iso_dict_list.index(firstDay)\n",
        "    #print(firstDay,day)\n",
        "    #day = day % 7\n",
        "    if leapFlag == 'Y':\n",
        "      noOfDaysOfMonth = ly[mm-1]\n",
        "    else:\n",
        "      noOfDaysOfMonth = nly[mm-1]\n",
        "   # print(\"noOfDaysOfMonth\",noOfDaysOfMonth)\n",
        "\n",
        "    #Printing day names\n",
        "    for x in iso_dict_list:\n",
        "      print(x, end=' ')\n",
        "    print()\n",
        "    ################################\n",
        "    for i in range(noOfDaysOfMonth + day):\n",
        "        if i < day:\n",
        "            print(\"\",space, end =' ')\n",
        "        else:\n",
        "            print(\"\",\"{:02d}\".format(i+1-day), end =' ')\n",
        "            if (i + 1)% 7 == 0:\n",
        "                print()\n",
        "    print()\n",
        "    print()\n",
        "\n",
        "    #for firstSpace in range(1,)\n",
        "    #for i in range(1,noOfDaysOfMonth+1):\n",
        "    #  print(iso_dict_list.index(firstDay),end=\" \") "
      ],
      "metadata": {
        "id": "7Bde998hEb5G"
      },
      "id": "7Bde998hEb5G",
      "execution_count": null,
      "outputs": []
    },
    {
      "cell_type": "code",
      "source": [
        "printCal(2019) "
      ],
      "metadata": {
        "colab": {
          "base_uri": "https://localhost:8080/"
        },
        "id": "XXuh7deDyL8Z",
        "outputId": "ef43af2b-cdee-48d7-f0b6-a5d9d35294e6"
      },
      "id": "XXuh7deDyL8Z",
      "execution_count": null,
      "outputs": [
        {
          "output_type": "stream",
          "name": "stdout",
          "text": [
            "          Jan 2019          \n",
            "Mon Tue Wed Thu Fri Sat Sun \n",
            "     01  02  03  04  05  06 \n",
            " 07  08  09  10  11  12  13 \n",
            " 14  15  16  17  18  19  20 \n",
            " 21  22  23  24  25  26  27 \n",
            " 28  29  30  31 \n",
            "\n",
            "          Feb 2019          \n",
            "Mon Tue Wed Thu Fri Sat Sun \n",
            "                 01  02  03 \n",
            " 04  05  06  07  08  09  10 \n",
            " 11  12  13  14  15  16  17 \n",
            " 18  19  20  21  22  23  24 \n",
            " 25  26  27  28 \n",
            "\n",
            "          Mar 2019          \n",
            "Mon Tue Wed Thu Fri Sat Sun \n",
            "                 01  02  03 \n",
            " 04  05  06  07  08  09  10 \n",
            " 11  12  13  14  15  16  17 \n",
            " 18  19  20  21  22  23  24 \n",
            " 25  26  27  28  29  30  31 \n",
            "\n",
            "\n",
            "          Apr 2019          \n",
            "Mon Tue Wed Thu Fri Sat Sun \n",
            " 01  02  03  04  05  06  07 \n",
            " 08  09  10  11  12  13  14 \n",
            " 15  16  17  18  19  20  21 \n",
            " 22  23  24  25  26  27  28 \n",
            " 29  30 \n",
            "\n",
            "          May 2019          \n",
            "Mon Tue Wed Thu Fri Sat Sun \n",
            "         01  02  03  04  05 \n",
            " 06  07  08  09  10  11  12 \n",
            " 13  14  15  16  17  18  19 \n",
            " 20  21  22  23  24  25  26 \n",
            " 27  28  29  30  31 \n",
            "\n",
            "          Jun 2019          \n",
            "Mon Tue Wed Thu Fri Sat Sun \n",
            "                     01  02 \n",
            " 03  04  05  06  07  08  09 \n",
            " 10  11  12  13  14  15  16 \n",
            " 17  18  19  20  21  22  23 \n",
            " 24  25  26  27  28  29  30 \n",
            "\n",
            "\n",
            "          Jul 2019          \n",
            "Mon Tue Wed Thu Fri Sat Sun \n",
            " 01  02  03  04  05  06  07 \n",
            " 08  09  10  11  12  13  14 \n",
            " 15  16  17  18  19  20  21 \n",
            " 22  23  24  25  26  27  28 \n",
            " 29  30  31 \n",
            "\n",
            "          Aug 2019          \n",
            "Mon Tue Wed Thu Fri Sat Sun \n",
            "             01  02  03  04 \n",
            " 05  06  07  08  09  10  11 \n",
            " 12  13  14  15  16  17  18 \n",
            " 19  20  21  22  23  24  25 \n",
            " 26  27  28  29  30  31 \n",
            "\n",
            "          Sep 2019          \n",
            "Mon Tue Wed Thu Fri Sat Sun \n",
            "                         01 \n",
            " 02  03  04  05  06  07  08 \n",
            " 09  10  11  12  13  14  15 \n",
            " 16  17  18  19  20  21  22 \n",
            " 23  24  25  26  27  28  29 \n",
            " 30 \n",
            "\n",
            "          Oct 2019          \n",
            "Mon Tue Wed Thu Fri Sat Sun \n",
            "     01  02  03  04  05  06 \n",
            " 07  08  09  10  11  12  13 \n",
            " 14  15  16  17  18  19  20 \n",
            " 21  22  23  24  25  26  27 \n",
            " 28  29  30  31 \n",
            "\n",
            "          Nov 2019          \n",
            "Mon Tue Wed Thu Fri Sat Sun \n",
            "                 01  02  03 \n",
            " 04  05  06  07  08  09  10 \n",
            " 11  12  13  14  15  16  17 \n",
            " 18  19  20  21  22  23  24 \n",
            " 25  26  27  28  29  30 \n",
            "\n",
            "          Dec 2019          \n",
            "Mon Tue Wed Thu Fri Sat Sun \n",
            "                         01 \n",
            " 02  03  04  05  06  07  08 \n",
            " 09  10  11  12  13  14  15 \n",
            " 16  17  18  19  20  21  22 \n",
            " 23  24  25  26  27  28  29 \n",
            " 30  31 \n",
            "\n"
          ]
        }
      ]
    },
    {
      "cell_type": "code",
      "execution_count": null,
      "id": "ed1affb8",
      "metadata": {
        "id": "ed1affb8"
      },
      "outputs": [],
      "source": [
        "#        Task 1.4"
      ]
    },
    {
      "cell_type": "markdown",
      "source": [
        "using linalg.solve and inverse.\n",
        "*   AX=B\n",
        "*   AinvAX=AinvB\n",
        "*   IX=AinvB\n",
        "*   X=AinvB<br>\n",
        "Where  I denotes the Identity Matrix"
      ],
      "metadata": {
        "id": "92q_DYAlCMJ1"
      },
      "id": "92q_DYAlCMJ1"
    },
    {
      "cell_type": "markdown",
      "source": [
        "Reference for [vectors](https://datahacker.rs/linear-combination-of-vectors/)"
      ],
      "metadata": {
        "id": "td2ouNj4H7A1"
      },
      "id": "td2ouNj4H7A1"
    },
    {
      "cell_type": "code",
      "source": [
        "import numpy as np\n",
        "import matplotlib.pyplot as plt\n",
        "\n",
        "#array using array function\n",
        "A = np.array([[2, -1],[-1, 2]])\n",
        "B = np.array([0,3])\n",
        "\n",
        "print(\"Solution using NumPy solver:\",np.linalg.solve(A,B))\n",
        "\n",
        "#numpy.dot gives the dot product of 2 matrices\n",
        "#numpy.linalg.inv denotes the inverse of the matrix\n",
        "print(\"Solution using Numpy inverse\",np.dot(np.linalg.inv(A),B))\n",
        "\n",
        "X = np.linalg.solve(A,B)\n",
        "print(\"X[0] is:\",X[0])\n",
        "print(\"X[1] is:\",X[1])\n",
        "#VA1, The first column vector of A\n",
        "plt.plot(A[0],label=\"VA1, The first column vector of A\")\n",
        "#VA2, The second column vector of A\n",
        "plt.plot(A[1],label=\"VA2, The second column vector of A\")\n",
        "plt.xlim(-1,2)\n",
        "plt.ylim(-1,3)\n",
        "plt.grid()\n",
        "plt.legend(loc=\"upper right\")\n",
        "plt.show()"
      ],
      "metadata": {
        "colab": {
          "base_uri": "https://localhost:8080/",
          "height": 338
        },
        "id": "nhjZMR-tOeMU",
        "outputId": "6c9ac979-9910-47af-e6b1-25a778ea9d4a"
      },
      "id": "nhjZMR-tOeMU",
      "execution_count": 24,
      "outputs": [
        {
          "output_type": "stream",
          "name": "stdout",
          "text": [
            "Solution using NumPy solver: [1. 2.]\n",
            "Solution using Numpy inverse [1. 2.]\n",
            "X[0] is: 1.0\n",
            "X[1] is: 2.0\n"
          ]
        },
        {
          "output_type": "display_data",
          "data": {
            "image/png": "[encoded data removed]",
            "text/plain": [
              "<Figure size 432x288 with 1 Axes>"
            ]
          },
          "metadata": {
            "needs_background": "light"
          }
        }
      ]
    },
    {
      "cell_type": "code",
      "source": [
        "import numpy as np\n",
        "import matplotlib.pyplot as plt\n",
        "\n",
        "#array using array function\n",
        "A = np.array([[2, -1],[-1, 2]])\n",
        "B = np.array([0,3])\n",
        "\n",
        "print(\"Solution using NumPy solver:\",np.linalg.solve(A,B))\n",
        "\n",
        "#numpy.dot gives the dot product of 2 matrices\n",
        "#numpy.linalg.inv denotes the inverse of the matrix\n",
        "print(\"Solution using Numpy inverse\",np.dot(np.linalg.inv(A),B))\n",
        "\n",
        "X = np.linalg.solve(A,B)\n",
        "print(\"X[0] is:\",X[0])\n",
        "print(\"X[1] is:\",X[1])\n",
        "#VA1, The first column vector of A\n",
        "plt.plot(A[0],label=\"VA1, The first column vector of A\")\n",
        "#VA2, The second column vector of A\n",
        "plt.plot(A[1],label=\"VA2, The second column vector of A\")\n",
        "\n",
        "#VA1 scaled by X[0]\n",
        "plt.plot(A[0]*X[0],'--b',c='y',label=\"VA1 scaled by X[0]\")\n",
        "\n",
        "#VA2 scaled by X[1]\n",
        "plt.plot(A[1]*X[1],label=\"VA2 scaled by X[1]\")\n",
        "\n",
        "linearComb = (A[0]*X[0]) + (A[1]*X[1])\n",
        "#linear combination of VA1 and VA2\n",
        "plt.plot(linearComb,label=\"Linear Combination of VA1 and VA2\")\n",
        "plt.xlim(-1,2)\n",
        "plt.ylim(-1,3)\n",
        "plt.grid()\n",
        "plt.legend(loc=\"upper right\",bbox_to_anchor = (1.7, 0.7))\n",
        "plt.show()\n",
        "# plt.gca().set_aspect('equal')"
      ],
      "metadata": {
        "colab": {
          "base_uri": "https://localhost:8080/",
          "height": 338
        },
        "id": "ux15-wlU78X9",
        "outputId": "3f74d877-994e-46ea-8f3f-ca6ac034f316"
      },
      "id": "ux15-wlU78X9",
      "execution_count": 32,
      "outputs": [
        {
          "output_type": "stream",
          "name": "stdout",
          "text": [
            "Solution using NumPy solver: [1. 2.]\n",
            "Solution using Numpy inverse [1. 2.]\n",
            "X[0] is: 1.0\n",
            "X[1] is: 2.0\n"
          ]
        },
        {
          "output_type": "display_data",
          "data": {
            "image/png": "[encoded data removed]",
            "text/plain": [
              "<Figure size 432x288 with 1 Axes>"
            ]
          },
          "metadata": {
            "needs_background": "light"
          }
        }
      ]
    },
    {
      "cell_type": "code",
      "execution_count": null,
      "id": "043ef619",
      "metadata": {
        "id": "043ef619",
        "outputId": "a47b398f-aae6-480e-e318-3538ae5c3184"
      },
      "outputs": [
        {
          "data": {
            "image/png": "[encoded data removed]",
            "text/plain": [
              "<Figure size 432x288 with 1 Axes>"
            ]
          },
          "metadata": {
            "needs_background": "light"
          },
          "output_type": "display_data"
        }
      ],
      "source": [
        "import matplotlib.pyplot as plt\n",
        "\n",
        "x = [1,2,3]\n",
        "y = [2,4,1]\n",
        "\n",
        "plt.plot(x,y)\n",
        "\n",
        "plt.xlabel('x - axis')\n",
        "plt.ylabel('y - axis')\n",
        "\n",
        "plt.title('My first graph!')\n",
        "\n",
        "plt.show()"
      ]
    },
    {
      "cell_type": "code",
      "execution_count": null,
      "id": "8bc3af2a",
      "metadata": {
        "id": "8bc3af2a"
      },
      "outputs": [],
      "source": [
        "#        Task 1.5"
      ]
    },
    {
      "cell_type": "code",
      "execution_count": null,
      "id": "996484cb",
      "metadata": {
        "id": "996484cb"
      },
      "outputs": [],
      "source": [
        ""
      ]
    },
    {
      "cell_type": "code",
      "execution_count": null,
      "id": "57a5d4a0",
      "metadata": {
        "id": "57a5d4a0"
      },
      "outputs": [],
      "source": [
        "#################################################### ROUGH PRACTICE ###############################"
      ]
    },
    {
      "cell_type": "code",
      "execution_count": null,
      "id": "e15236e2",
      "metadata": {
        "id": "e15236e2",
        "outputId": "fa42ddc4-853b-4080-e5f0-edb1e0ede232"
      },
      "outputs": [
        {
          "name": "stdout",
          "output_type": "stream",
          "text": [
            "Enter the year: 2019\n",
            "                                  2019\n",
            "\n",
            "      January                   February                   March\n",
            "Su Mo Tu We Th Fr Sa      Su Mo Tu We Th Fr Sa      Su Mo Tu We Th Fr Sa\n",
            "       1  2  3  4  5                      1  2                      1  2\n",
            " 6  7  8  9 10 11 12       3  4  5  6  7  8  9       3  4  5  6  7  8  9\n",
            "13 14 15 16 17 18 19      10 11 12 13 14 15 16      10 11 12 13 14 15 16\n",
            "20 21 22 23 24 25 26      17 18 19 20 21 22 23      17 18 19 20 21 22 23\n",
            "27 28 29 30 31            24 25 26 27 28            24 25 26 27 28 29 30\n",
            "                                                    31\n",
            "\n",
            "       April                      May                       June\n",
            "Su Mo Tu We Th Fr Sa      Su Mo Tu We Th Fr Sa      Su Mo Tu We Th Fr Sa\n",
            "    1  2  3  4  5  6                1  2  3  4                         1\n",
            " 7  8  9 10 11 12 13       5  6  7  8  9 10 11       2  3  4  5  6  7  8\n",
            "14 15 16 17 18 19 20      12 13 14 15 16 17 18       9 10 11 12 13 14 15\n",
            "21 22 23 24 25 26 27      19 20 21 22 23 24 25      16 17 18 19 20 21 22\n",
            "28 29 30                  26 27 28 29 30 31         23 24 25 26 27 28 29\n",
            "                                                    30\n",
            "\n",
            "        July                     August                  September\n",
            "Su Mo Tu We Th Fr Sa      Su Mo Tu We Th Fr Sa      Su Mo Tu We Th Fr Sa\n",
            "    1  2  3  4  5  6                   1  2  3       1  2  3  4  5  6  7\n",
            " 7  8  9 10 11 12 13       4  5  6  7  8  9 10       8  9 10 11 12 13 14\n",
            "14 15 16 17 18 19 20      11 12 13 14 15 16 17      15 16 17 18 19 20 21\n",
            "21 22 23 24 25 26 27      18 19 20 21 22 23 24      22 23 24 25 26 27 28\n",
            "28 29 30 31               25 26 27 28 29 30 31      29 30\n",
            "\n",
            "      October                   November                  December\n",
            "Su Mo Tu We Th Fr Sa      Su Mo Tu We Th Fr Sa      Su Mo Tu We Th Fr Sa\n",
            "       1  2  3  4  5                      1  2       1  2  3  4  5  6  7\n",
            " 6  7  8  9 10 11 12       3  4  5  6  7  8  9       8  9 10 11 12 13 14\n",
            "13 14 15 16 17 18 19      10 11 12 13 14 15 16      15 16 17 18 19 20 21\n",
            "20 21 22 23 24 25 26      17 18 19 20 21 22 23      22 23 24 25 26 27 28\n",
            "27 28 29 30 31            24 25 26 27 28 29 30      29 30 31\n",
            "\n"
          ]
        }
      ],
      "source": [
        "import calendar #calendar file imported\n",
        "\n",
        "year = int(input(\"Enter the year: \")) #took input from user in string converted to int\n",
        "#month = int(input(\"Enter the month: \"))\n",
        "\n",
        "calendar.setfirstweekday(calendar.SUNDAY)\n",
        "#mycal = calendar.month(year,month)\n",
        "mycal = calendar.calendar(year)\n",
        "print(mycal)\n",
        "\n"
      ]
    },
    {
      "cell_type": "code",
      "execution_count": null,
      "id": "765a7bd6",
      "metadata": {
        "id": "765a7bd6"
      },
      "outputs": [],
      "source": [
        ""
      ]
    }
  ],
  "metadata": {
    "kernelspec": {
      "display_name": "Python 3 (ipykernel)",
      "language": "python",
      "name": "python3"
    },
    "language_info": {
      "codemirror_mode": {
        "name": "ipython",
        "version": 3
      },
      "file_extension": ".py",
      "mimetype": "text/x-python",
      "name": "python",
      "nbconvert_exporter": "python",
      "pygments_lexer": "ipython3",
      "version": "3.9.7"
    },
    "colab": {
      "name": "01 5 PROGRAM_070222.ipynb",
      "provenance": [],
      "collapsed_sections": []
    }
  },
  "nbformat": 4,
  "nbformat_minor": 5
}