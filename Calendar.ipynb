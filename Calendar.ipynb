{
 "cells": [
  {
   "cell_type": "code",
   "execution_count": null,
   "id": "71bbca2b",
   "metadata": {
    "id": "71bbca2b"
   },
   "outputs": [],
   "source": [
    "#    Task 1"
   ]
  },
  {
   "cell_type": "code",
   "execution_count": null,
   "id": "69426613",
   "metadata": {
    "id": "69426613"
   },
   "outputs": [],
   "source": [
    "#        Task 1.1"
   ]
  },
  {
   "cell_type": "markdown",
   "id": "r9ABTr_E6E7n",
   "metadata": {
    "id": "r9ABTr_E6E7n"
   },
   "source": [
    "Question:\n",
    "Define and implement a function to test whether a given calendar year is a leap year or a\n",
    "common year."
   ]
  },
  {
   "cell_type": "markdown",
   "id": "XGT7VaxjvQTp",
   "metadata": {
    "id": "XGT7VaxjvQTp"
   },
   "source": [
    "N => Not a leap year\n",
    "\n",
    "Y => Leap year "
   ]
  },
  {
   "cell_type": "code",
   "execution_count": 10,
   "id": "29k6EeL9E3gm",
   "metadata": {
    "id": "29k6EeL9E3gm"
   },
   "outputs": [],
   "source": [
    "#isLeapmod\n",
    "# First making a function, so that if repaeating this function is required again so will repeat it\n",
    "def isLeapmod(in_year):\n",
    "  if(in_year % 4 != 0 ):\n",
    "      return 'It is a common Year' # Checking, if the year entered is divisble by 4, if not then it is a common year\n",
    "  elif(in_year % 4 == 0 ) and (in_year % 100 != 0):\n",
    "      return 'It is a Leap Year' # Checking, if the year entered is divisble by 4 & not div by 100, then it is a Leap year\n",
    "  elif(in_year % 100) == 0 and (in_year % 400 != 0):\n",
    "      return 'It is a common Year'# Checking, if the year entered is div by 100 & not div by 400, then it is a Common Year\n",
    "  elif(in_year % 400) == 0 and (in_year % 3200 != 0):\n",
    "      return 'It is a Leap Year'# Checking, if the year entered is div by 400 & not div by 3200, then it is a Leap year\n",
    "  else:\n",
    "      return 'It is a common Year' #Else any other condition it is common year\n",
    "\n",
    "  return -1"
   ]
  },
  {
   "cell_type": "markdown",
   "id": "435c5408",
   "metadata": {},
   "source": [
    "# Refrences\n",
    "- https://youtu.be/Nn1HbesFphU\n",
    "- https://stackoverflow.com/questions/11621740/how-to-determine-whether-a-year-is-a-leap-year\n",
    "- https://www.programiz.com/python-programming/examples/leap-year"
   ]
  },
  {
   "cell_type": "code",
   "execution_count": 11,
   "id": "zjoP652CGBCt",
   "metadata": {
    "colab": {
     "base_uri": "https://localhost:8080/",
     "height": 35
    },
    "id": "zjoP652CGBCt",
    "outputId": "851273fc-03b6-445a-fb72-cbcd589bc73c"
   },
   "outputs": [
    {
     "name": "stdout",
     "output_type": "stream",
     "text": [
      "2019 :  It is a common Year\n",
      "2020 :  It is a Leap Year\n",
      "2021 :  It is a common Year\n",
      "2022 :  It is a common Year\n",
      "2023 :  It is a common Year\n",
      "2024 :  It is a Leap Year\n"
     ]
    }
   ],
   "source": [
    "# isLeapmod(2019)\n",
    "print (\"2019 : \",isLeapmod(2019))\n",
    "print (\"2020 : \",isLeapmod(2020))\n",
    "print (\"2021 : \",isLeapmod(2021))\n",
    "print (\"2022 : \",isLeapmod(2022))\n",
    "print (\"2023 : \",isLeapmod(2023))\n",
    "print (\"2024 : \",isLeapmod(2024))\n",
    "#isLeapmod(2020)\n",
    "# isLeapmod(2021)\n",
    "# isLeapmod(2022)\n",
    "# isLeapmod(2023)\n",
    "# isLeapmod(2024)"
   ]
  },
  {
   "cell_type": "markdown",
   "id": "f60cfebb",
   "metadata": {},
   "source": [
    "# References:\n",
    "- https://realpython.com/python-print/ \n",
    " Print function using it by passing a value in the function as well as print function.\n",
    "- https://www.geeksforgeeks.org/passing-function-as-an-argument-in-python/"
   ]
  },
  {
   "cell_type": "code",
   "execution_count": null,
   "id": "4fc4bf4f",
   "metadata": {},
   "outputs": [],
   "source": [
    "# =========================================================================================="
   ]
  },
  {
   "cell_type": "code",
   "execution_count": null,
   "id": "eeab8141",
   "metadata": {},
   "outputs": [],
   "source": [
    "# =========================================================================================="
   ]
  },
  {
   "cell_type": "code",
   "execution_count": null,
   "id": "e5507cb3",
   "metadata": {
    "id": "e5507cb3"
   },
   "outputs": [],
   "source": [
    "#        Task 1.2"
   ]
  },
  {
   "cell_type": "markdown",
   "id": "yXqvs0e95tdU",
   "metadata": {
    "id": "yXqvs0e95tdU"
   },
   "source": [
    "<!-- Question:\n",
    "Within the same script or jupyter notebook created in Task 1.1, define and implement\n",
    "a function to calculate ISO Day-of-Week given a date including year, month and day of\n",
    "month, i.e. Year=2019 (calendar year), Month=2 (February), Day of Month=5 (the 5th\n",
    "day of the month). -->"
   ]
  },
  {
   "cell_type": "markdown",
   "id": "TLWc487T-saG",
   "metadata": {
    "id": "TLWc487T-saG"
   },
   "source": [
    "<!-- ISO Day-of-week: The most common is the International Standard ISO 8601, where Monday is the first day of the week followed by Tuesday, Wednesday, Thursday, Friday, Saturday, and with Sunday as the seventh and final day.  -->"
   ]
  },
  {
   "cell_type": "markdown",
   "id": "-dIrSb_zZ62g",
   "metadata": {
    "id": "-dIrSb_zZ62g"
   },
   "source": [
    "<!-- **Trying new approach** -->"
   ]
  },
  {
   "cell_type": "code",
   "execution_count": 12,
   "id": "junbWQPcZwyW",
   "metadata": {
    "id": "junbWQPcZwyW"
   },
   "outputs": [],
   "source": [
    "#isLeapmod\n",
    "def isLeapmod(in_year):\n",
    "  if(in_year % 4 != 0 ):\n",
    "      return 'N'\n",
    "  elif(in_year % 4 == 0 ) and (in_year % 100 != 0):\n",
    "      return 'Y'\n",
    "  elif(in_year % 100) == 0 and (in_year % 400 != 0):\n",
    "      return 'N'\n",
    "  elif(in_year % 400) == 0 and (in_year % 3200 != 0):\n",
    "      return 'Y'\n",
    "  else:\n",
    "      return 'N'\n",
    "\n",
    "  return -1\n",
    "\n",
    "def dayOfTheWeek(y,m,dayOfMonth):\n",
    "    iso_dict = { 1:'Mon',  2:'Tue',  3:'Wed', \n",
    "                 4:'Thu',  5:'Fri',  6:'Sat',7:'Sun'}\n",
    "    leapFlag = isLeapmod(y)\n",
    "    if (dayOfMonth>31 or m>12) and (leapFlag == 'N' and m == 2 and dayOfMonth > 28) and (leapFlag == 'Y' and m == 2 and dayOfMonth > 29):\n",
    "      return \"Invalid date\"\n",
    "    else:\n",
    "      if m <= 2:\n",
    "        m = m + 12\n",
    "        y = y - 1\n",
    "      j = y // 100 #zero-based century\n",
    "      k = y % 100  #year of century\n",
    "      h = ( dayOfMonth + ((13*(m+1))//(5)) + k + (k//4) + (j//4) - (2*j) ) % 7 #day of week (0=Sat,1=Sun,..6=Fri)\n",
    "      print(\"Day of the week is :\",h)\n",
    "      dayOfMonth = ((h + 5) % 7) + 1 #ISO week date Day-of-Week/Day of the Month (1=Mon,.,3=Wed,.., 6=Sat,7=Sun)\n",
    "      print(\"The Day of the Month/ISO Day-of-week is:\",dayOfMonth)\n",
    "      #print(iso_dict[dayOfMonth])\n",
    "      print(\"And that day is : \", end='')\n",
    "      return iso_dict[dayOfMonth]"
   ]
  },
  {
   "cell_type": "markdown",
   "id": "87fe7269",
   "metadata": {},
   "source": [
    "# Refrences:\n",
    "#### - - How to make dictinary in python\n",
    "- https://www.w3schools.com/python/python_dictionaries.asp\n",
    "- https://www.programiz.com/python-programming/dictionary\n",
    "- https://www.geeksforgeeks.org/python-dictionary/\n",
    "#### - - How to use Flag in python\n",
    "- https://www.geeksforgeeks.org/use-of-flag-in-programming/\n",
    "#### - - Day of the week [Understanding code]\n",
    "- https://www.geeksforgeeks.org/python-program-to-find-day-of-the-week-for-a-given-date/\n",
    "- https://www.hellocodeclub.com/python-get-day-of-week/\n",
    "- https://stackoverflow.com/questions/9847213/how-do-i-get-the-day-of-week-given-a-date\n",
    "- "
   ]
  },
  {
   "cell_type": "code",
   "execution_count": 13,
   "id": "AC_GuBPlwxtQ",
   "metadata": {
    "colab": {
     "base_uri": "https://localhost:8080/"
    },
    "id": "AC_GuBPlwxtQ",
    "outputId": "dbe8f706-9065-48e1-9d06-06d5b977b20e"
   },
   "outputs": [
    {
     "name": "stdout",
     "output_type": "stream",
     "text": [
      "Day of the week is : 2\n",
      "The Day of the Month/ISO Day-of-week is: 1\n",
      "And that day is : Mon\n",
      "\n",
      "\n",
      "Day of the week is : 3\n",
      "The Day of the Month/ISO Day-of-week is: 2\n",
      "And that day is : Tue\n"
     ]
    }
   ],
   "source": [
    "print(dayOfTheWeek(2022,2,7))\n",
    "print(\"\\n\")\n",
    "print(dayOfTheWeek(2019,2,5))"
   ]
  },
  {
   "cell_type": "markdown",
   "id": "ba39fad2",
   "metadata": {
    "id": "ae03e9ca"
   },
   "source": [
    "# Citation, Link, Refrences : \n",
    "- https://www.youtube.com/watch?v=nCp9yTCFIYY"
   ]
  },
  {
   "cell_type": "code",
   "execution_count": null,
   "id": "31fdc5df",
   "metadata": {},
   "outputs": [],
   "source": [
    "# =========================================================================================="
   ]
  },
  {
   "cell_type": "code",
   "execution_count": null,
   "id": "bda80698",
   "metadata": {},
   "outputs": [],
   "source": [
    "# =========================================================================================="
   ]
  },
  {
   "cell_type": "code",
   "execution_count": null,
   "id": "a4c8b024",
   "metadata": {
    "id": "a4c8b024"
   },
   "outputs": [],
   "source": [
    "#        Task 1.3"
   ]
  },
  {
   "cell_type": "markdown",
   "id": "d0obTlmVAE6B",
   "metadata": {
    "id": "d0obTlmVAE6B"
   },
   "source": [
    "Question:\n",
    "Print out the monthly calendar of a given year"
   ]
  },
  {
   "cell_type": "code",
   "execution_count": 14,
   "id": "171ff11c",
   "metadata": {
    "id": "171ff11c"
   },
   "outputs": [],
   "source": [
    "#isLeapmod\n",
    "def isLeapmod(in_year):\n",
    "  if(in_year % 4 != 0 ):\n",
    "      return 'N'\n",
    "  elif(in_year % 4 == 0 ) and (in_year % 100 != 0):\n",
    "      return 'Y'\n",
    "  elif(in_year % 100) == 0 and (in_year % 400 != 0):\n",
    "      return 'N'\n",
    "  elif(in_year % 400) == 0 and (in_year % 3200 != 0):\n",
    "      return 'Y'\n",
    "  else:\n",
    "      return 'N'\n",
    "\n",
    "  return -1\n",
    "\n",
    "def dayOfTheWeek(y,m,dayOfMonth):\n",
    "    iso_dict = { 1:'Mon',  2:'Tue',  3:'Wed', \n",
    "                 4:'Thu',  5:'Fri',  6:'Sat',7:'Sun'}\n",
    "    leapFlag = isLeapmod(y)\n",
    "    if (dayOfMonth>31 or m>12) and (leapFlag == 'N' and m == 2 and dayOfMonth > 28) and (leapFlag == 'Y' and m == 2 and dayOfMonth > 29):\n",
    "      return \"Invalid date\"\n",
    "    else:\n",
    "      if m <= 2:\n",
    "        m = m + 12\n",
    "        y = y - 1\n",
    "      j = y // 100 #zero-based century\n",
    "      k = y % 100  #year of century\n",
    "      h = ( dayOfMonth + ((13*(m+1))//(5)) + k + (k//4) + (j//4) - (2*j) ) % 7 #day of week (0=Sat,1=Sun,..6=Fri)\n",
    "#       print(\"Day of the week is :\",h)\n",
    "      dayOfMonth = ((h + 5) % 7) + 1 #ISO week date Day-of-Week/Day of the Month (1=Mon,.,3=Wed,.., 6=Sat,7=Sun)\n",
    "#       print(\"The Day of the Month/ISO Day-of-week is:\",dayOfMonth)\n",
    "      #print(iso_dict[dayOfMonth])\n",
    "#       print(\"And that day is : \", end='')\n",
    "      return iso_dict[dayOfMonth]"
   ]
  },
  {
   "cell_type": "code",
   "execution_count": 15,
   "id": "7Bde998hEb5G",
   "metadata": {
    "id": "7Bde998hEb5G"
   },
   "outputs": [],
   "source": [
    "def printCal(y):\n",
    "  #Input would be given year\n",
    "  ISO_day_of_week = ['1','2','3','4','5','6','7']\n",
    "  iso_dict_list =  ['Mon','Tue','Wed','Thu','Fri','Sat','Sun']\n",
    "  #months_long = ['January', 'February', 'March', 'April', 'May', 'June', 'July', 'August', 'September', 'October', 'November', 'December']\n",
    "  #months_short = ['Jan', 'Feb', 'Mar', 'Apr', 'May', 'Jun', 'Jul', 'Aug', 'Sep', 'Oct', 'Nov', 'Dec']\n",
    "\n",
    "  month ={ 1:'Jan',  2:'Feb',  3:'Mar', \n",
    "           4:'Apr',  5:'May',  6:'Jun', \n",
    "           7:'Jul',  8:'Aug',  9:'Sep', \n",
    "          10:'Oct', 11:'Nov', 12:'Dec'}\n",
    "\n",
    "  leapFlag = isLeapmod(y)\n",
    "\n",
    "  #not leap year number of days list\n",
    "  nly =[31, 28, 31, \n",
    "        30, 31, 30, \n",
    "        31, 31, 30, \n",
    "        31, 30, 31]\n",
    "  \n",
    "  #Leap year number of days list\n",
    "  ly = [31, 29, 31,\n",
    "        30, 31, 30,\n",
    "        31, 31, 30,\n",
    "        31, 30, 31]\n",
    "    \n",
    "  print(\"The Yearly calender is of: \", end='')\n",
    "  print(str(y).center(28))\n",
    "  print()\n",
    "  # variable used for white space filling \n",
    "  # where date not present\n",
    "  space =''\n",
    "  space = space.rjust(2,' ')\n",
    "\n",
    "  for mm in range(1,13):\n",
    "    text = month[mm]+\" \"+str(y)\n",
    "    print(text.center(28))\n",
    "    #Identifying the first day from where the calendar dates should start\n",
    "    firstDay = dayOfTheWeek(y,mm,1)\n",
    "    day = iso_dict_list.index(firstDay)\n",
    "    #print(firstDay,day)\n",
    "    #day = day % 7\n",
    "    if leapFlag == 'Y':\n",
    "      noOfDaysOfMonth = ly[mm-1]\n",
    "    else:\n",
    "      noOfDaysOfMonth = nly[mm-1]\n",
    "   # print(\"noOfDaysOfMonth\",noOfDaysOfMonth)\n",
    "\n",
    "    #Printing day names\n",
    "    for x in iso_dict_list:\n",
    "      print(x, end=' ')\n",
    "    print()\n",
    "    ################################\n",
    "    for i in range(noOfDaysOfMonth + day):\n",
    "        if i < day:\n",
    "            print(\"\",space, end =' ')\n",
    "        else:\n",
    "            print(\"\",\"{:02d}\".format(i+1-day), end =' ')\n",
    "            if (i + 1)% 7 == 0:\n",
    "                print()\n",
    "    print()\n",
    "    print()\n",
    "\n",
    "    #for firstSpace in range(1,)\n",
    "    #for i in range(1,noOfDaysOfMonth+1):\n",
    "    #  print(iso_dict_list.index(firstDay),end=\" \") "
   ]
  },
  {
   "cell_type": "code",
   "execution_count": 16,
   "id": "XXuh7deDyL8Z",
   "metadata": {
    "colab": {
     "base_uri": "https://localhost:8080/"
    },
    "id": "XXuh7deDyL8Z",
    "outputId": "ef43af2b-cdee-48d7-f0b6-a5d9d35294e6"
   },
   "outputs": [
    {
     "name": "stdout",
     "output_type": "stream",
     "text": [
      "The Yearly calender is of:             2019            \n",
      "\n",
      "          Jan 2019          \n",
      "Mon Tue Wed Thu Fri Sat Sun \n",
      "     01  02  03  04  05  06 \n",
      " 07  08  09  10  11  12  13 \n",
      " 14  15  16  17  18  19  20 \n",
      " 21  22  23  24  25  26  27 \n",
      " 28  29  30  31 \n",
      "\n",
      "          Feb 2019          \n",
      "Mon Tue Wed Thu Fri Sat Sun \n",
      "                 01  02  03 \n",
      " 04  05  06  07  08  09  10 \n",
      " 11  12  13  14  15  16  17 \n",
      " 18  19  20  21  22  23  24 \n",
      " 25  26  27  28 \n",
      "\n",
      "          Mar 2019          \n",
      "Mon Tue Wed Thu Fri Sat Sun \n",
      "                 01  02  03 \n",
      " 04  05  06  07  08  09  10 \n",
      " 11  12  13  14  15  16  17 \n",
      " 18  19  20  21  22  23  24 \n",
      " 25  26  27  28  29  30  31 \n",
      "\n",
      "\n",
      "          Apr 2019          \n",
      "Mon Tue Wed Thu Fri Sat Sun \n",
      " 01  02  03  04  05  06  07 \n",
      " 08  09  10  11  12  13  14 \n",
      " 15  16  17  18  19  20  21 \n",
      " 22  23  24  25  26  27  28 \n",
      " 29  30 \n",
      "\n",
      "          May 2019          \n",
      "Mon Tue Wed Thu Fri Sat Sun \n",
      "         01  02  03  04  05 \n",
      " 06  07  08  09  10  11  12 \n",
      " 13  14  15  16  17  18  19 \n",
      " 20  21  22  23  24  25  26 \n",
      " 27  28  29  30  31 \n",
      "\n",
      "          Jun 2019          \n",
      "Mon Tue Wed Thu Fri Sat Sun \n",
      "                     01  02 \n",
      " 03  04  05  06  07  08  09 \n",
      " 10  11  12  13  14  15  16 \n",
      " 17  18  19  20  21  22  23 \n",
      " 24  25  26  27  28  29  30 \n",
      "\n",
      "\n",
      "          Jul 2019          \n",
      "Mon Tue Wed Thu Fri Sat Sun \n",
      " 01  02  03  04  05  06  07 \n",
      " 08  09  10  11  12  13  14 \n",
      " 15  16  17  18  19  20  21 \n",
      " 22  23  24  25  26  27  28 \n",
      " 29  30  31 \n",
      "\n",
      "          Aug 2019          \n",
      "Mon Tue Wed Thu Fri Sat Sun \n",
      "             01  02  03  04 \n",
      " 05  06  07  08  09  10  11 \n",
      " 12  13  14  15  16  17  18 \n",
      " 19  20  21  22  23  24  25 \n",
      " 26  27  28  29  30  31 \n",
      "\n",
      "          Sep 2019          \n",
      "Mon Tue Wed Thu Fri Sat Sun \n",
      "                         01 \n",
      " 02  03  04  05  06  07  08 \n",
      " 09  10  11  12  13  14  15 \n",
      " 16  17  18  19  20  21  22 \n",
      " 23  24  25  26  27  28  29 \n",
      " 30 \n",
      "\n",
      "          Oct 2019          \n",
      "Mon Tue Wed Thu Fri Sat Sun \n",
      "     01  02  03  04  05  06 \n",
      " 07  08  09  10  11  12  13 \n",
      " 14  15  16  17  18  19  20 \n",
      " 21  22  23  24  25  26  27 \n",
      " 28  29  30  31 \n",
      "\n",
      "          Nov 2019          \n",
      "Mon Tue Wed Thu Fri Sat Sun \n",
      "                 01  02  03 \n",
      " 04  05  06  07  08  09  10 \n",
      " 11  12  13  14  15  16  17 \n",
      " 18  19  20  21  22  23  24 \n",
      " 25  26  27  28  29  30 \n",
      "\n",
      "          Dec 2019          \n",
      "Mon Tue Wed Thu Fri Sat Sun \n",
      "                         01 \n",
      " 02  03  04  05  06  07  08 \n",
      " 09  10  11  12  13  14  15 \n",
      " 16  17  18  19  20  21  22 \n",
      " 23  24  25  26  27  28  29 \n",
      " 30  31 \n",
      "\n",
      "##########################################################################\n",
      "\n",
      "The Yearly calender is of:             2022            \n",
      "\n",
      "          Jan 2022          \n",
      "Mon Tue Wed Thu Fri Sat Sun \n",
      "                     01  02 \n",
      " 03  04  05  06  07  08  09 \n",
      " 10  11  12  13  14  15  16 \n",
      " 17  18  19  20  21  22  23 \n",
      " 24  25  26  27  28  29  30 \n",
      " 31 \n",
      "\n",
      "          Feb 2022          \n",
      "Mon Tue Wed Thu Fri Sat Sun \n",
      "     01  02  03  04  05  06 \n",
      " 07  08  09  10  11  12  13 \n",
      " 14  15  16  17  18  19  20 \n",
      " 21  22  23  24  25  26  27 \n",
      " 28 \n",
      "\n",
      "          Mar 2022          \n",
      "Mon Tue Wed Thu Fri Sat Sun \n",
      "     01  02  03  04  05  06 \n",
      " 07  08  09  10  11  12  13 \n",
      " 14  15  16  17  18  19  20 \n",
      " 21  22  23  24  25  26  27 \n",
      " 28  29  30  31 \n",
      "\n",
      "          Apr 2022          \n",
      "Mon Tue Wed Thu Fri Sat Sun \n",
      "                 01  02  03 \n",
      " 04  05  06  07  08  09  10 \n",
      " 11  12  13  14  15  16  17 \n",
      " 18  19  20  21  22  23  24 \n",
      " 25  26  27  28  29  30 \n",
      "\n",
      "          May 2022          \n",
      "Mon Tue Wed Thu Fri Sat Sun \n",
      "                         01 \n",
      " 02  03  04  05  06  07  08 \n",
      " 09  10  11  12  13  14  15 \n",
      " 16  17  18  19  20  21  22 \n",
      " 23  24  25  26  27  28  29 \n",
      " 30  31 \n",
      "\n",
      "          Jun 2022          \n",
      "Mon Tue Wed Thu Fri Sat Sun \n",
      "         01  02  03  04  05 \n",
      " 06  07  08  09  10  11  12 \n",
      " 13  14  15  16  17  18  19 \n",
      " 20  21  22  23  24  25  26 \n",
      " 27  28  29  30 \n",
      "\n",
      "          Jul 2022          \n",
      "Mon Tue Wed Thu Fri Sat Sun \n",
      "                 01  02  03 \n",
      " 04  05  06  07  08  09  10 \n",
      " 11  12  13  14  15  16  17 \n",
      " 18  19  20  21  22  23  24 \n",
      " 25  26  27  28  29  30  31 \n",
      "\n",
      "\n",
      "          Aug 2022          \n",
      "Mon Tue Wed Thu Fri Sat Sun \n",
      " 01  02  03  04  05  06  07 \n",
      " 08  09  10  11  12  13  14 \n",
      " 15  16  17  18  19  20  21 \n",
      " 22  23  24  25  26  27  28 \n",
      " 29  30  31 \n",
      "\n",
      "          Sep 2022          \n",
      "Mon Tue Wed Thu Fri Sat Sun \n",
      "             01  02  03  04 \n",
      " 05  06  07  08  09  10  11 \n",
      " 12  13  14  15  16  17  18 \n",
      " 19  20  21  22  23  24  25 \n",
      " 26  27  28  29  30 \n",
      "\n",
      "          Oct 2022          \n",
      "Mon Tue Wed Thu Fri Sat Sun \n",
      "                     01  02 \n",
      " 03  04  05  06  07  08  09 \n",
      " 10  11  12  13  14  15  16 \n",
      " 17  18  19  20  21  22  23 \n",
      " 24  25  26  27  28  29  30 \n",
      " 31 \n",
      "\n",
      "          Nov 2022          \n",
      "Mon Tue Wed Thu Fri Sat Sun \n",
      "     01  02  03  04  05  06 \n",
      " 07  08  09  10  11  12  13 \n",
      " 14  15  16  17  18  19  20 \n",
      " 21  22  23  24  25  26  27 \n",
      " 28  29  30 \n",
      "\n",
      "          Dec 2022          \n",
      "Mon Tue Wed Thu Fri Sat Sun \n",
      "             01  02  03  04 \n",
      " 05  06  07  08  09  10  11 \n",
      " 12  13  14  15  16  17  18 \n",
      " 19  20  21  22  23  24  25 \n",
      " 26  27  28  29  30  31 \n",
      "\n"
     ]
    }
   ],
   "source": [
    "printCal(2019)\n",
    "print(\"##########################################################################\\n\")\n",
    "printCal(2022)"
   ]
  },
  {
   "cell_type": "markdown",
   "id": "41a0d3e7",
   "metadata": {},
   "source": [
    "<!-- GAP\n",
    "--> "
   ]
  },
  {
   "cell_type": "markdown",
   "id": "cd039f8e",
   "metadata": {
    "id": "0dbbd31b"
   },
   "source": [
    "# Rough Practice to understand code"
   ]
  },
  {
   "cell_type": "code",
   "execution_count": null,
   "id": "57a5d4a0",
   "metadata": {
    "id": "57a5d4a0"
   },
   "outputs": [],
   "source": [
    "#################################################### ROUGH PRACTICE ###############################"
   ]
  },
  {
   "cell_type": "code",
   "execution_count": null,
   "id": "57015450",
   "metadata": {
    "id": "57a5d4a0"
   },
   "outputs": [],
   "source": [
    "#################################################### ROUGH PRACTICE ###############################"
   ]
  },
  {
   "cell_type": "code",
   "execution_count": null,
   "id": "2db720ad",
   "metadata": {
    "id": "57a5d4a0"
   },
   "outputs": [],
   "source": [
    "#################################################### ROUGH PRACTICE ###############################"
   ]
  },
  {
   "cell_type": "code",
   "execution_count": null,
   "id": "64c905b1",
   "metadata": {
    "id": "57a5d4a0"
   },
   "outputs": [],
   "source": [
    "#################################################### ROUGH PRACTICE ###############################"
   ]
  },
  {
   "cell_type": "code",
   "execution_count": null,
   "id": "19851704",
   "metadata": {
    "id": "57a5d4a0"
   },
   "outputs": [],
   "source": [
    "#################################################### ROUGH PRACTICE ###############################"
   ]
  },
  {
   "cell_type": "code",
   "execution_count": null,
   "id": "2822cf5e",
   "metadata": {
    "id": "57a5d4a0"
   },
   "outputs": [],
   "source": [
    "#################################################### ROUGH PRACTICE ###############################"
   ]
  },
  {
   "cell_type": "code",
   "execution_count": null,
   "id": "03ca5e79",
   "metadata": {
    "id": "57a5d4a0"
   },
   "outputs": [],
   "source": [
    "#################################################### ROUGH PRACTICE ###############################"
   ]
  },
  {
   "cell_type": "code",
   "execution_count": null,
   "id": "30918769",
   "metadata": {
    "id": "57a5d4a0"
   },
   "outputs": [],
   "source": [
    "#################################################### ROUGH PRACTICE ###############################"
   ]
  },
  {
   "cell_type": "code",
   "execution_count": null,
   "id": "a0af5406",
   "metadata": {
    "id": "57a5d4a0"
   },
   "outputs": [],
   "source": [
    "#################################################### ROUGH PRACTICE ###############################"
   ]
  },
  {
   "cell_type": "code",
   "execution_count": null,
   "id": "65e3d0bc",
   "metadata": {
    "id": "65e3d0bc"
   },
   "outputs": [],
   "source": [
    "#################################################### ROUGH PRACTICE ###############################"
   ]
  },
  {
   "cell_type": "code",
   "execution_count": null,
   "id": "8b0a13cc",
   "metadata": {
    "id": "8b0a13cc"
   },
   "outputs": [],
   "source": [
    "#################################################### ROUGH PRACTICE ###############################"
   ]
  },
  {
   "cell_type": "code",
   "execution_count": null,
   "id": "ef66f8fb",
   "metadata": {
    "id": "ef66f8fb"
   },
   "outputs": [],
   "source": [
    "#################################################### ROUGH PRACTICE ###############################"
   ]
  },
  {
   "cell_type": "code",
   "execution_count": null,
   "id": "da9ffac7",
   "metadata": {
    "id": "da9ffac7"
   },
   "outputs": [],
   "source": [
    "#################################################### ROUGH PRACTICE ###############################"
   ]
  },
  {
   "cell_type": "code",
   "execution_count": null,
   "id": "4e1f1621",
   "metadata": {
    "id": "4e1f1621"
   },
   "outputs": [],
   "source": [
    "#################################################### ROUGH PRACTICE ###############################"
   ]
  },
  {
   "cell_type": "code",
   "execution_count": null,
   "id": "043ef619",
   "metadata": {
    "id": "043ef619",
    "outputId": "a47b398f-aae6-480e-e318-3538ae5c3184"
   },
   "outputs": [
    {
     "data": {
      "image/png": "[encoded data removed]",
      "text/plain": [
       "<Figure size 432x288 with 1 Axes>"
      ]
     },
     "metadata": {
      "needs_background": "light"
     },
     "output_type": "display_data"
    }
   ],
   "source": [
    "import matplotlib.pyplot as plt\n",
    "\n",
    "x = [1,2,3]\n",
    "y = [2,4,1]\n",
    "\n",
    "plt.plot(x,y)\n",
    "\n",
    "plt.xlabel('x - axis')\n",
    "plt.ylabel('y - axis')\n",
    "\n",
    "plt.title('My first graph!')\n",
    "\n",
    "plt.show()"
   ]
  },
  {
   "cell_type": "code",
   "execution_count": null,
   "id": "e15236e2",
   "metadata": {
    "id": "e15236e2",
    "outputId": "fa42ddc4-853b-4080-e5f0-edb1e0ede232"
   },
   "outputs": [
    {
     "name": "stdout",
     "output_type": "stream",
     "text": [
      "Enter the year: 2019\n",
      "                                  2019\n",
      "\n",
      "      January                   February                   March\n",
      "Su Mo Tu We Th Fr Sa      Su Mo Tu We Th Fr Sa      Su Mo Tu We Th Fr Sa\n",
      "       1  2  3  4  5                      1  2                      1  2\n",
      " 6  7  8  9 10 11 12       3  4  5  6  7  8  9       3  4  5  6  7  8  9\n",
      "13 14 15 16 17 18 19      10 11 12 13 14 15 16      10 11 12 13 14 15 16\n",
      "20 21 22 23 24 25 26      17 18 19 20 21 22 23      17 18 19 20 21 22 23\n",
      "27 28 29 30 31            24 25 26 27 28            24 25 26 27 28 29 30\n",
      "                                                    31\n",
      "\n",
      "       April                      May                       June\n",
      "Su Mo Tu We Th Fr Sa      Su Mo Tu We Th Fr Sa      Su Mo Tu We Th Fr Sa\n",
      "    1  2  3  4  5  6                1  2  3  4                         1\n",
      " 7  8  9 10 11 12 13       5  6  7  8  9 10 11       2  3  4  5  6  7  8\n",
      "14 15 16 17 18 19 20      12 13 14 15 16 17 18       9 10 11 12 13 14 15\n",
      "21 22 23 24 25 26 27      19 20 21 22 23 24 25      16 17 18 19 20 21 22\n",
      "28 29 30                  26 27 28 29 30 31         23 24 25 26 27 28 29\n",
      "                                                    30\n",
      "\n",
      "        July                     August                  September\n",
      "Su Mo Tu We Th Fr Sa      Su Mo Tu We Th Fr Sa      Su Mo Tu We Th Fr Sa\n",
      "    1  2  3  4  5  6                   1  2  3       1  2  3  4  5  6  7\n",
      " 7  8  9 10 11 12 13       4  5  6  7  8  9 10       8  9 10 11 12 13 14\n",
      "14 15 16 17 18 19 20      11 12 13 14 15 16 17      15 16 17 18 19 20 21\n",
      "21 22 23 24 25 26 27      18 19 20 21 22 23 24      22 23 24 25 26 27 28\n",
      "28 29 30 31               25 26 27 28 29 30 31      29 30\n",
      "\n",
      "      October                   November                  December\n",
      "Su Mo Tu We Th Fr Sa      Su Mo Tu We Th Fr Sa      Su Mo Tu We Th Fr Sa\n",
      "       1  2  3  4  5                      1  2       1  2  3  4  5  6  7\n",
      " 6  7  8  9 10 11 12       3  4  5  6  7  8  9       8  9 10 11 12 13 14\n",
      "13 14 15 16 17 18 19      10 11 12 13 14 15 16      15 16 17 18 19 20 21\n",
      "20 21 22 23 24 25 26      17 18 19 20 21 22 23      22 23 24 25 26 27 28\n",
      "27 28 29 30 31            24 25 26 27 28 29 30      29 30 31\n",
      "\n"
     ]
    }
   ],
   "source": [
    "import calendar #calendar file imported\n",
    "\n",
    "year = int(input(\"Enter the year: \")) #took input from user in string converted to int\n",
    "#month = int(input(\"Enter the month: \"))\n",
    "\n",
    "calendar.setfirstweekday(calendar.SUNDAY)\n",
    "#mycal = calendar.month(year,month)\n",
    "mycal = calendar.calendar(year)\n",
    "print(mycal)\n",
    "\n"
   ]
  },
  {
   "cell_type": "code",
   "execution_count": null,
   "id": "765a7bd6",
   "metadata": {
    "id": "765a7bd6"
   },
   "outputs": [],
   "source": []
  },
  {
   "cell_type": "code",
   "execution_count": null,
   "id": "97d85fbe",
   "metadata": {
    "id": "97d85fbe",
    "outputId": "65502c71-159d-492b-de5e-094630d26263"
   },
   "outputs": [
    {
     "ename": "NameError",
     "evalue": "name 'random' is not defined",
     "output_type": "error",
     "traceback": [
      "\u001b[1;31m---------------------------------------------------------------------------\u001b[0m",
      "\u001b[1;31mNameError\u001b[0m                                 Traceback (most recent call last)",
      "\u001b[1;32m~\\AppData\\Local\\Temp/ipykernel_18348/4053679.py\u001b[0m in \u001b[0;36m<module>\u001b[1;34m\u001b[0m\n\u001b[0;32m      5\u001b[0m }\n\u001b[0;32m      6\u001b[0m \u001b[1;33m\u001b[0m\u001b[0m\n\u001b[1;32m----> 7\u001b[1;33m \u001b[0mballPicked\u001b[0m \u001b[1;33m=\u001b[0m \u001b[0mrandom\u001b[0m\u001b[1;33m.\u001b[0m\u001b[0mchoice\u001b[0m\u001b[1;33m(\u001b[0m\u001b[0mlist\u001b[0m\u001b[1;33m(\u001b[0m\u001b[0md\u001b[0m\u001b[1;33m.\u001b[0m\u001b[0mvalues\u001b[0m\u001b[1;33m(\u001b[0m\u001b[1;33m)\u001b[0m\u001b[1;33m)\u001b[0m\u001b[1;33m)\u001b[0m\u001b[1;33m\u001b[0m\u001b[1;33m\u001b[0m\u001b[0m\n\u001b[0m\u001b[0;32m      8\u001b[0m \u001b[0mprint\u001b[0m\u001b[1;33m(\u001b[0m\u001b[0mballPicked\u001b[0m\u001b[1;33m)\u001b[0m\u001b[1;33m\u001b[0m\u001b[1;33m\u001b[0m\u001b[0m\n",
      "\u001b[1;31mNameError\u001b[0m: name 'random' is not defined"
     ]
    }
   ],
   "source": [
    "from scipy.stats import binom\n",
    "\n",
    "red = { 1:'R',  2:'R', 3:'R',  4:'B', 5:'B',  6:'B', 7:'B',  8:'B', 9:'B', 10:'B' \n",
    "    \n",
    "}\n",
    "\n",
    "ballPicked = random.choice(list(d.values()))\n",
    "print(ballPicked)"
   ]
  },
  {
   "cell_type": "code",
   "execution_count": null,
   "id": "2188dee3",
   "metadata": {
    "id": "2188dee3",
    "outputId": "c06d0880-52fd-42a7-d78d-5c4b3f525128"
   },
   "outputs": [
    {
     "name": "stdout",
     "output_type": "stream",
     "text": [
      "r\tp(r)\n",
      "0\t0.0040960000000000015\n",
      "1\t0.03686400000000002\n",
      "2\t0.1382400000000001\n",
      "3\t0.2764800000000001\n",
      "4\t0.3110400000000001\n",
      "5\t0.1866240000000001\n",
      "6\t0.04665599999999999\n",
      "mean = 3.5999999999999996\n",
      "variance = 1.44\n"
     ]
    }
   ],
   "source": [
    "from scipy.stats import binom\n",
    "# setting the values\n",
    "# of n and p\n",
    "n = 6\n",
    "p = 0.6\n",
    "# defining the list of r values\n",
    "r_values = list(range(n + 1))\n",
    "# obtaining the mean and variance\n",
    "mean, var = binom.stats(n, p)\n",
    "# list of pmf values\n",
    "dist = [binom.pmf(r, n, p) for r in r_values ]\n",
    "# printing the table\n",
    "print(\"r\\tp(r)\")\n",
    "for i in range(n + 1):\n",
    "\tprint(str(r_values[i]) + \"\\t\" + str(dist[i]))\n",
    "# printing mean and variance\n",
    "print(\"mean = \"+str(mean))\n",
    "print(\"variance = \"+str(var))\n"
   ]
  },
  {
   "cell_type": "code",
   "execution_count": null,
   "id": "0bfa39d4",
   "metadata": {
    "id": "0bfa39d4",
    "outputId": "ef83c040-9ea7-4dbe-d9ca-e661160e9310"
   },
   "outputs": [
    {
     "data": {
      "image/png": "[encoded data removed]",
      "text/plain": [
       "<Figure size 432x288 with 1 Axes>"
      ]
     },
     "metadata": {
      "needs_background": "light"
     },
     "output_type": "display_data"
    }
   ],
   "source": [
    "from scipy.stats import binom\n",
    "import matplotlib.pyplot as plt\n",
    "# setting the values\n",
    "# of n and p\n",
    "n = 50\n",
    "p = 0.7\n",
    "# defining list of r values\n",
    "r_values = list(range(n + 1))\n",
    "# list of pmf values\n",
    "dist = [binom.pmf(r, n, p) for r in r_values ]\n",
    "# plotting the graph\n",
    "plt.hist(r_values, dist)\n",
    "plt.show()\n"
   ]
  },
  {
   "cell_type": "code",
   "execution_count": null,
   "id": "e1f50ccc",
   "metadata": {
    "id": "e1f50ccc"
   },
   "outputs": [],
   "source": []
  },
  {
   "cell_type": "code",
   "execution_count": null,
   "id": "f955304a",
   "metadata": {
    "id": "f955304a",
    "outputId": "ee64d960-f8e9-413b-d0e1-15edb0fe2920"
   },
   "outputs": [
    {
     "data": {
      "text/plain": [
       "[<matplotlib.lines.Line2D at 0x23bdbd31880>]"
      ]
     },
     "execution_count": 5,
     "metadata": {},
     "output_type": "execute_result"
    },
    {
     "data": {
      "image/png": "[encoded data removed]",
      "text/plain": [
       "<Figure size 432x288 with 1 Axes>"
      ]
     },
     "metadata": {
      "needs_background": "light"
     },
     "output_type": "display_data"
    }
   ],
   "source": [
    "point1 =[2, 2]\n",
    "point2 = [3, 4]\n",
    "\n",
    "x_values = [point1[0], point2[0]]\n",
    "# gather x-values\n",
    "\n",
    "y_values = [point1[1], point2[1]]\n",
    "# gather y-values\n",
    "\n",
    "\n",
    "plt.plot(x_values, y_values)"
   ]
  },
  {
   "cell_type": "code",
   "execution_count": null,
   "id": "3106fce3",
   "metadata": {
    "id": "3106fce3"
   },
   "outputs": [],
   "source": [
    "444444444444444444444444444444444444444444444444444444444444444444444444444444444444444444444444444444444444444"
   ]
  },
  {
   "cell_type": "code",
   "execution_count": null,
   "id": "d5dda61f",
   "metadata": {
    "id": "d5dda61f",
    "outputId": "f81d67a7-db97-4e4a-c6b5-6e229e5b3f42"
   },
   "outputs": [
    {
     "name": "stdout",
     "output_type": "stream",
     "text": [
      "Solution using NumPy solver: [1. 2.]\n",
      "Solution using Numpy inverse [1. 2.]\n",
      "X[0] is: 1.0\n",
      "X[1] is: 2.0\n",
      "[ 2 -1]\n"
     ]
    },
    {
     "data": {
      "image/png": "[encoded data removed]",
      "text/plain": [
       "<Figure size 432x288 with 1 Axes>"
      ]
     },
     "metadata": {
      "needs_background": "light"
     },
     "output_type": "display_data"
    }
   ],
   "source": [
    "import numpy as np\n",
    "import matplotlib.pyplot as plt\n",
    "\n",
    "#array using array function\n",
    "A = np.array([[2, -1],[-1, 2]])\n",
    "B = np.array([0,3])\n",
    "\n",
    "print(\"Solution using NumPy solver:\",np.linalg.solve(A,B))\n",
    "\n",
    "#numpy.dot gives the dot product of 2 matrices\n",
    "#numpy.linalg.inv denotes the inverse of the matrix\n",
    "print(\"Solution using Numpy inverse\",np.dot(np.linalg.inv(A),B))\n",
    "\n",
    "X = np.linalg.solve(A,B)\n",
    "origin = [0, 0]\n",
    "print(\"X[0] is:\",X[0])\n",
    "print(\"X[1] is:\",X[1])\n",
    "\n",
    "x_values = [0, 0]\n",
    "y_values = [0, 0]\n",
    "v1 = A[:, 0]\n",
    "# \n",
    "x_values[1] = v1[0]\n",
    "y_values[1] = v1[1]\n",
    "# plot function for x1,x2 \n",
    "print(v1)\n",
    "#VA1, The first column vector of A\n",
    "plt.plot(x_values,y_values,label=\"VA1, The first column vector of A\")\n",
    "#VA2, The second column vector of A\n",
    "# plt.plot(A[:,1],label=\"VA2, The second column vector of A\")\n",
    "\n",
    "plt.xlim(-1,2)\n",
    "plt.ylim(-1,3)\n",
    "plt.grid()\n",
    "plt.legend(loc=\"upper right\")\n",
    "plt.show()"
   ]
  },
  {
   "cell_type": "code",
   "execution_count": null,
   "id": "89b6c49f",
   "metadata": {
    "id": "89b6c49f",
    "outputId": "b1e78d01-0de3-447c-a2a4-ff07f0517b7b"
   },
   "outputs": [
    {
     "name": "stdout",
     "output_type": "stream",
     "text": [
      "Solution using NumPy solver: [1. 2.]\n",
      "Solution using Numpy inverse [1. 2.]\n",
      "X[0] is: 1.0\n",
      "X[1] is: 2.0\n"
     ]
    },
    {
     "name": "stderr",
     "output_type": "stream",
     "text": [
      "C:\\Users\\shukl\\AppData\\Local\\Temp/ipykernel_23828/2237079021.py:23: UserWarning: color is redundantly defined by the 'color' keyword argument and the fmt string \"--b\" (-> color='b'). The keyword argument will take precedence.\n",
      "  plt.plot(A[0]*X[0],'--b',c='y',label=\"VA1 scaled by X[0]\")\n"
     ]
    },
    {
     "data": {
      "image/png": "[encoded data removed]",
      "text/plain": [
       "<Figure size 432x288 with 1 Axes>"
      ]
     },
     "metadata": {
      "needs_background": "light"
     },
     "output_type": "display_data"
    }
   ],
   "source": [
    "import numpy as np\n",
    "import matplotlib.pyplot as plt\n",
    "\n",
    "#array using array function\n",
    "A = np.array([[2, -1],[-1, 2]])\n",
    "B = np.array([0,3])\n",
    "\n",
    "print(\"Solution using NumPy solver:\",np.linalg.solve(A,B))\n",
    "\n",
    "#numpy.dot gives the dot product of 2 matrices\n",
    "#numpy.linalg.inv denotes the inverse of the matrix\n",
    "print(\"Solution using Numpy inverse\",np.dot(np.linalg.inv(A),B))\n",
    "\n",
    "X = np.linalg.solve(A,B)\n",
    "print(\"X[0] is:\",X[0])\n",
    "print(\"X[1] is:\",X[1])\n",
    "#VA1, The first column vector of A\n",
    "plt.plot(A[0],label=\"VA1, The first column vector of A\")\n",
    "#VA2, The second column vector of A\n",
    "plt.plot(A[1],label=\"VA2, The second column vector of A\")\n",
    "\n",
    "#VA1 scaled by X[0]\n",
    "plt.plot(A[0]*X[0],'--b',c='y',label=\"VA1 scaled by X[0]\")\n",
    "\n",
    "#VA2 scaled by X[1]\n",
    "plt.plot(A[1]*X[1],label=\"VA2 scaled by X[1]\")\n",
    "\n",
    "linearComb = (A[0]*X[0]) + (A[1]*X[1])\n",
    "#linear combination of VA1 and VA2\n",
    "plt.plot(linearComb,label=\"Linear Combination of VA1 and VA2\")\n",
    "plt.xlim(-1,2)\n",
    "plt.ylim(-1,3)\n",
    "plt.grid()\n",
    "plt.legend(loc=\"upper right\",bbox_to_anchor = (1.7, 0.7))\n",
    "plt.show()\n",
    "# plt.gca().set_aspect('equal')"
   ]
  },
  {
   "cell_type": "code",
   "execution_count": null,
   "id": "5da08698",
   "metadata": {
    "id": "5da08698"
   },
   "outputs": [],
   "source": []
  },
  {
   "cell_type": "code",
   "execution_count": null,
   "id": "c3d5f7a0",
   "metadata": {
    "id": "c3d5f7a0"
   },
   "outputs": [],
   "source": [
    "555555555555555555555555555555555555555555555555555555555555555555555555555555555555555555555555555555555555555555"
   ]
  },
  {
   "cell_type": "code",
   "execution_count": null,
   "id": "aa075e77",
   "metadata": {
    "id": "aa075e77",
    "outputId": "d416d989-fd38-4cc3-ed63-9f50afa67422"
   },
   "outputs": [
    {
     "ename": "SyntaxError",
     "evalue": "invalid syntax (Temp/ipykernel_14260/2600461787.py, line 8)",
     "output_type": "error",
     "traceback": [
      "\u001b[1;36m  File \u001b[1;32m\"C:\\Users\\shukl\\AppData\\Local\\Temp/ipykernel_14260/2600461787.py\"\u001b[1;36m, line \u001b[1;32m8\u001b[0m\n\u001b[1;33m    output : [[0.14712367 0.80746693 0.64743047]\u001b[0m\n\u001b[1;37m                          ^\u001b[0m\n\u001b[1;31mSyntaxError\u001b[0m\u001b[1;31m:\u001b[0m invalid syntax\n"
     ]
    }
   ],
   "source": [
    "# NumPy\n",
    "\n",
    "import numpy as np\n",
    "X = np . random . rand (2 , 3 , 5)\n",
    "print ( X . shape )\n",
    "output : (2 , 3 , 5)\n",
    "print ( X [: , : , 0])\n",
    "output : [[0.14712367 0.80746693 0.64743047]\n",
    "[0.24978265 0.85477356 0.51286484]]\n",
    "\n",
    "    \n",
    "    \n",
    "    \n",
    "# Next Example\n",
    "\n",
    "import numpy as np\n",
    "x = np . arange (5) # Create array containing integer values [0 -5)\n",
    "np . save ( ‘ myFile . npy ’ , x )\n",
    "y = np . load ( ‘ myFile . npy ’)\n",
    "print ( y )\n",
    "output : [0 , 1 , 2 , 3 , 4]\n",
    "\n",
    "    \n",
    "    \n",
    "    \n",
    "#              Matplotlib\n",
    "#  3rd example \n",
    "\n",
    "# A 2 D scatter plot of some random data\n",
    "import matplotlib . pyplot as plt\n",
    "import numpy as np\n",
    "data = np . random . randn (150 ,2) # 150 observations with 2 features\n",
    "plt . figure () # Create a new canvas\n",
    "plt . scatter ( data [: ,0] , data [: ,1]) # Plot data as a scatter plot\n",
    "plt . xlabel ( ‘ Feature 1 ’) # Add x axis label\n",
    "plt . ylabel ( ‘ Feature 2 ’)\n",
    "plt . title ( ‘ Scatter plot of 2 D data ’)\n",
    "plt . show () # Display plot to screen\n",
    "\n",
    "\n",
    "\n",
    "\n",
    "#  4th example 444444444\n",
    "\n",
    "# A line plot of an exponential growth curve\n",
    "import matplotlib . pyplot as plt\n",
    "import numpy as np\n",
    "x = np . linspace (0 , 3 , 50)\n",
    "y = np . exp ( x )\n",
    "y2 = np . exp (2* x )\n",
    "plt . figure ()\n",
    "plt . plot (x , y , label = \" y = exp ( x ) \" ) # Plot y against x\n",
    "plt . plot (x , y2 , label = \" y = exp (2 x ) \" ) # Plot y2 against x\n",
    "plt . xlabel ( ’x ’)\n",
    "plt . ylabel ( ’y ’)\n",
    "plt . title ( ’ Exponential curve ’)\n",
    "plt . legend ()\n",
    "plt . grid ()\n",
    "plt . show () # Display plot to screen\n",
    "\n",
    "\n"
   ]
  },
  {
   "cell_type": "code",
   "execution_count": null,
   "id": "de7081c3",
   "metadata": {
    "id": "de7081c3",
    "outputId": "cbd15e97-8632-45c5-c1fb-fa3d01da7505"
   },
   "outputs": [
    {
     "name": "stdout",
     "output_type": "stream",
     "text": [
      "['R' 'R' 'R' 'B' 'B' 'B' 'B' 'B' 'B' 'B']\n"
     ]
    },
    {
     "data": {
      "image/png": "[encoded data removed]",
      "text/plain": [
       "<Figure size 432x288 with 1 Axes>"
      ]
     },
     "metadata": {
      "needs_background": "light"
     },
     "output_type": "display_data"
    }
   ],
   "source": [
    "import matplotlib . pyplot as plt\n",
    "import numpy as np\n",
    "\n",
    "arr = np.array([ 'R', \"R\", \"R\", \"B\", \"B\", \"B\", \"B\", \"B\", \"B\", \"B\"])\n",
    "# lsit =['R', \"R\", \"R\", \"B\", \"B\", \"B\", \"B\", \"B\", \"B\", \"B\"]\n",
    "# arrlist = arr.tolist()\n",
    "print(arr)\n",
    "# print(arrlist)\n",
    "# print(type(arr))\n",
    "q= 1000 # to be used in first loop 1000 times in getting success\n",
    "p=10000 # to be used in second loop above 10000\n",
    "\n",
    "\n",
    "plt.xlabel(\"Number of Success'X-axis' in the particular runs'That is Y-axis'\") # Add x axis label\n",
    "plt.ylabel(\"Number of runs 'Y-axis' of the program\")\n",
    "plt.title(\"Histogram of Success in the given Runs\")\n",
    "plt.show() # Display plot to screen\n",
    "\n",
    "\n",
    "\n",
    "\n",
    "\n",
    "\n",
    "# https://www.w3schools.com/python/numpy/numpy_creating_arrays.asp \n",
    "# https://pythonguides.com/python-numpy-to-list/\n",
    "# \n",
    "# \n",
    "# "
   ]
  }
 ],
 "metadata": {
  "colab": {
   "collapsed_sections": [],
   "name": "01_5_PROGRAM_070222-Copy1.ipynb",
   "provenance": []
  },
  "kernelspec": {
   "display_name": "Python 3 (ipykernel)",
   "language": "python",
   "name": "python3"
  },
  "language_info": {
   "codemirror_mode": {
    "name": "ipython",
    "version": 3
   },
   "file_extension": ".py",
   "mimetype": "text/x-python",
   "name": "python",
   "nbconvert_exporter": "python",
   "pygments_lexer": "ipython3",
   "version": "3.9.7"
  }
 },
 "nbformat": 4,
 "nbformat_minor": 5
}
