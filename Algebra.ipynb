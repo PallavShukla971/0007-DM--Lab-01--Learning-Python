{
 "cells": [
  {
   "cell_type": "code",
   "execution_count": null,
   "id": "f21b7c49",
   "metadata": {},
   "outputs": [],
   "source": [
    "#        Task 1.4"
   ]
  },
  {
   "cell_type": "code",
   "execution_count": null,
   "id": "71264b36",
   "metadata": {},
   "outputs": [],
   "source": [
    "# Code for Linear Algebra"
   ]
  },
  {
   "cell_type": "markdown",
   "id": "e4b2d856",
   "metadata": {},
   "source": [
    "# Refrences / Citation :\n",
    "#### - - First Understanding Linear Algebra in data science. - How to apply.\n",
    "- - https://towardsdatascience.com/introduction-to-vectors-and-matrices-using-python-for-data-science-e836e014eb12\n",
    "- Linear Regression\n",
    "- - https://towardsdatascience.com/dot-product-in-linear-algebra-for-data-science-using-python-f113fb60c8f\\\n",
    "- How to apply Ling lang function\n",
    "- How to use np.array\n",
    "- https://medium.com/swlh/linear-algebra-in-python-b967061e342a\n",
    "#### - - Complete guide for Linear Algebra/Matrix/Inverse/Transpose/PCA/Covariance [Guidance]\n",
    "- https://pub.towardsai.net/basic-linear-algebra-for-deep-learning-and-machine-learning-ml-python-tutorial-444e23db3e9e\n",
    "#### - - Vector addition in python\n",
    "np.ones\n",
    "- https://stackoverflow.com/questions/11971089/adding-a-vector-to-matrix-rows-in-numpy\n",
    "- - https://datahacker.rs/linear-combination-of-vectors/"
   ]
  },
  {
   "cell_type": "code",
   "execution_count": null,
   "id": "1818955b",
   "metadata": {},
   "outputs": [],
   "source": [
    "# using linalg.solve and inverse.\n",
    "# *   AX=B\n",
    "# *   AinvAX=AinvB\n",
    "# *   IX=AinvB\n",
    "# *   X=AinvB<br>\n",
    "# Where  I denotes the Identity Matrix"
   ]
  },
  {
   "cell_type": "code",
   "execution_count": 1,
   "id": "d6a6a34a",
   "metadata": {},
   "outputs": [
    {
     "name": "stdout",
     "output_type": "stream",
     "text": [
      "Solution using NumPy solver: [1. 2.]\n",
      "Solution using Numpy inverse [1. 2.]\n",
      "[1. 2.]\n",
      "X[0] is: 1.0\n",
      "X[1] is: 2.0\n",
      "2\n",
      "-1\n",
      "[[0, 2], [0, -1]]\n",
      "[[0, -1], [0, 2]]\n",
      "[[0.0, 2.0], [0.0, -1.0]]\n",
      "[[0.0, -2.0], [0.0, 4.0]]\n",
      "[[0.0, 0.0], [0.0, 3.0]]\n"
     ]
    },
    {
     "data": {
      "image/png": "[encoded data removed]",
      "text/plain": [
       "<Figure size 432x288 with 1 Axes>"
      ]
     },
     "metadata": {
      "needs_background": "light"
     },
     "output_type": "display_data"
    }
   ],
   "source": [
    "import numpy as np\n",
    "import matplotlib.pyplot as plt\n",
    "# %matplotlib inline \n",
    "\n",
    "#array using array function\n",
    "A = np.array([[2, -1],[-1, 2]])\n",
    "B = np.array([0,3])\n",
    "\n",
    "X=np.linalg.solve(A,B)\n",
    "print(\"Solution using NumPy solver:\",X) \n",
    "# print(\"Solution using NumPy solver:\",np.linalg.solve(A,B)) \n",
    "#numpy.dot gives the dot product of 2 matrices\n",
    "#numpy.linalg.inv denotes the inverse of the matrix\n",
    "X=np.dot(np.linalg.inv(A),B) #DOT PRODUCT OF A-INVERSE & B\n",
    "print(\"Solution using Numpy inverse\",X)\n",
    "\n",
    "# X = np.linalg.solve(A,B)\n",
    "print(X)\n",
    "print(\"X[0] is:\",X[0]) # 1=X0\n",
    "print(\"X[1] is:\",X[1]) # 2=X1\n",
    "#origin = np.zeros(A.shape)\n",
    "\n",
    "VA1 = [[0,2],[0,-1]] # ROW WISE WITH RESPECT TO ORIGIN A\n",
    "VA2 = [[0,-1],[0,2]] # SECOND ROW\n",
    "\n",
    "print(VA1[0][1])\n",
    "print(VA1[1][1])\n",
    "\n",
    "VA1SCALED = [[VA1[0][0]*X[0],VA1[0][1]*X[0]],[VA1[1][0]*X[0],VA1[1][1]*X[0]]] # MULTIPLY VA1 BY X0 = 1\n",
    "VA2SCALED = [[VA2[0][0]*X[1],VA2[0][1]*X[1]],[VA2[1][0]*X[1],VA2[1][1]*X[1]]] # MULTIPLY VA2 BY X1 = 2\n",
    "\n",
    "linearCombination = [\n",
    "                     [\n",
    "                      VA1SCALED[0][0] + VA2SCALED[0][0],\n",
    "                      VA1SCALED[0][1] + VA2SCALED[0][1],\n",
    "                     ],\n",
    "                     [\n",
    "                      VA1SCALED[1][0] + VA2SCALED[1][0],\n",
    "                      VA1SCALED[1][1] + VA2SCALED[1][1],\n",
    "                     ]\n",
    "                    ]\n",
    "# Vector addition element wise- of the scaled vector formed from above\n",
    "print(VA1)\n",
    "print(VA2)\n",
    "print(VA1SCALED)\n",
    "print(VA2SCALED)\n",
    "print(linearCombination)\n",
    "\n",
    "VA2SCALED_x = VA2SCALED + np.ones((2,2))*VA1[0][1] \n",
    "# adding np.ones\n",
    "VA2SCALED_Y = VA2SCALED + np.ones((2,2))*VA1[1][1]\n",
    "\n",
    "#VA1, The first column vector of A\n",
    "plt.plot(VA1[0],VA1[1],label=\"VA1, The first column vector of A\")\n",
    "#VA2, The second column vector of A\n",
    "plt.plot(VA2[0],VA2[1],label=\"VA2, The second column vector of A\")\n",
    "\n",
    "#VA1 scaled by X[0]\n",
    "# plt.plot(VA1[0][0]*X[0],VA1[0][1]*X[0],'--b',c='y',label=\"VA1 scaled by X[0]\")\n",
    "plt.plot(VA1SCALED[0],VA1SCALED[1],label=\"VA1 scaled by X[0]\")\n",
    "\n",
    "#VA2 scaled by X[1]\n",
    "# plt.plot(VA2[1][0]*X[1],VA2[1][1]*X[1],label=\"VA2 scaled by X[1]\")\n",
    "plt.plot(VA2SCALED_x[0] ,VA2SCALED_Y[1] ,label=\"VA2 scaled by X[1]\")\n",
    "\n",
    "#\n",
    "#linear combination of VA1 and VA2\n",
    "# plt.plot(linearComb,label=\"Linear Combination of VA1 and VA2\")\n",
    "plt.plot(linearCombination[0],linearCombination[1],label=\"Linear Combination of VA1 and VA2\")\n",
    "plt.xlim(-2,2.5)\n",
    "plt.ylim(-2,5.5)\n",
    "plt.grid()\n",
    "plt.legend(loc=\"upper right\",bbox_to_anchor = (1.7, 0.7))\n",
    "plt.show()\n",
    "# plt.gca().set_aspect('equal')"
   ]
  },
  {
   "cell_type": "markdown",
   "id": "c0385f87",
   "metadata": {},
   "source": [
    "# Reference for [vectors] \n",
    "\n",
    "- https://datahacker.rs/linear-combination-of-vectors/#id3\n"
   ]
  },
  {
   "cell_type": "code",
   "execution_count": null,
   "id": "f6d512d6",
   "metadata": {},
   "outputs": [],
   "source": []
  }
 ],
 "metadata": {
  "kernelspec": {
   "display_name": "Python 3 (ipykernel)",
   "language": "python",
   "name": "python3"
  },
  "language_info": {
   "codemirror_mode": {
    "name": "ipython",
    "version": 3
   },
   "file_extension": ".py",
   "mimetype": "text/x-python",
   "name": "python",
   "nbconvert_exporter": "python",
   "pygments_lexer": "ipython3",
   "version": "3.9.7"
  }
 },
 "nbformat": 4,
 "nbformat_minor": 5
}
